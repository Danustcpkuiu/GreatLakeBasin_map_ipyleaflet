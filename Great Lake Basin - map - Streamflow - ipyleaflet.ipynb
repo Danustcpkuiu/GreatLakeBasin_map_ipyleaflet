{
 "cells": [
  {
   "cell_type": "markdown",
   "metadata": {},
   "source": [
    "# Great Lakes Map with ipyleaflet"
   ]
  },
  {
   "cell_type": "code",
   "execution_count": 1,
   "metadata": {},
   "outputs": [
    {
     "data": {
      "text/html": [
       "<div>\n",
       "<style scoped>\n",
       "    .dataframe tbody tr th:only-of-type {\n",
       "        vertical-align: middle;\n",
       "    }\n",
       "\n",
       "    .dataframe tbody tr th {\n",
       "        vertical-align: top;\n",
       "    }\n",
       "\n",
       "    .dataframe thead th {\n",
       "        text-align: right;\n",
       "    }\n",
       "</style>\n",
       "<table border=\"1\" class=\"dataframe\">\n",
       "  <thead>\n",
       "    <tr style=\"text-align: right;\">\n",
       "      <th></th>\n",
       "      <th>Calibration_Station</th>\n",
       "      <th>Latitude</th>\n",
       "      <th>Longitude</th>\n",
       "      <th>Streamflow_dr</th>\n",
       "      <th>Water_Temperature_dr</th>\n",
       "      <th>Suspended_Sediment_Load_dr</th>\n",
       "      <th>Water_Temperature_mae</th>\n",
       "    </tr>\n",
       "  </thead>\n",
       "  <tbody>\n",
       "    <tr>\n",
       "      <th>0</th>\n",
       "      <td>1</td>\n",
       "      <td>49.597992</td>\n",
       "      <td>-87.964216</td>\n",
       "      <td>0.391237</td>\n",
       "      <td>NaN</td>\n",
       "      <td>NaN</td>\n",
       "      <td>NaN</td>\n",
       "    </tr>\n",
       "    <tr>\n",
       "      <th>1</th>\n",
       "      <td>2</td>\n",
       "      <td>48.926076</td>\n",
       "      <td>-87.689935</td>\n",
       "      <td>0.509740</td>\n",
       "      <td>NaN</td>\n",
       "      <td>NaN</td>\n",
       "      <td>NaN</td>\n",
       "    </tr>\n",
       "    <tr>\n",
       "      <th>2</th>\n",
       "      <td>3</td>\n",
       "      <td>48.904724</td>\n",
       "      <td>-88.375945</td>\n",
       "      <td>0.407360</td>\n",
       "      <td>NaN</td>\n",
       "      <td>NaN</td>\n",
       "      <td>NaN</td>\n",
       "    </tr>\n",
       "    <tr>\n",
       "      <th>3</th>\n",
       "      <td>4</td>\n",
       "      <td>48.848033</td>\n",
       "      <td>-86.606977</td>\n",
       "      <td>0.456780</td>\n",
       "      <td>NaN</td>\n",
       "      <td>NaN</td>\n",
       "      <td>NaN</td>\n",
       "    </tr>\n",
       "    <tr>\n",
       "      <th>4</th>\n",
       "      <td>5</td>\n",
       "      <td>48.822786</td>\n",
       "      <td>-88.531901</td>\n",
       "      <td>0.511682</td>\n",
       "      <td>NaN</td>\n",
       "      <td>NaN</td>\n",
       "      <td>NaN</td>\n",
       "    </tr>\n",
       "  </tbody>\n",
       "</table>\n",
       "</div>"
      ],
      "text/plain": [
       "   Calibration_Station   Latitude  Longitude  Streamflow_dr  \\\n",
       "0                    1  49.597992 -87.964216       0.391237   \n",
       "1                    2  48.926076 -87.689935       0.509740   \n",
       "2                    3  48.904724 -88.375945       0.407360   \n",
       "3                    4  48.848033 -86.606977       0.456780   \n",
       "4                    5  48.822786 -88.531901       0.511682   \n",
       "\n",
       "   Water_Temperature_dr  Suspended_Sediment_Load_dr  Water_Temperature_mae  \n",
       "0                   NaN                         NaN                    NaN  \n",
       "1                   NaN                         NaN                    NaN  \n",
       "2                   NaN                         NaN                    NaN  \n",
       "3                   NaN                         NaN                    NaN  \n",
       "4                   NaN                         NaN                    NaN  "
      ]
     },
     "execution_count": 1,
     "metadata": {},
     "output_type": "execute_result"
    }
   ],
   "source": [
    "# Set up data\n",
    "\n",
    "import pandas as pd\n",
    "import matplotlib.pyplot as plt\n",
    "\n",
    "station_info = pd.read_excel (r'C:\\Users\\april\\Documents\\Data Viz\\final_project\\Great Lakes Basin Model Validations.xlsx')\n",
    "# replace the space in column titles with underscore\n",
    "station_info.columns = [c.replace(' (dr)', '_dr') for c in station_info.columns]\n",
    "station_info.columns = [c.replace(' ', '_') for c in station_info.columns]\n",
    "station_info.columns = [c.replace('(', '') for c in station_info.columns]\n",
    "station_info.columns = [c.replace(')', '') for c in station_info.columns]\n",
    "station_info.columns = [c.replace('Calibration Station', 'Calibration_Station') for c in station_info.columns]\n",
    "\n",
    "lats = list(station_info.Latitude)\n",
    "lons = list(station_info.Longitude)\n",
    "streamflow_dr = list(station_info.Streamflow_dr)\n",
    "water_temp_dr = list(station_info.Water_Temperature_dr)\n",
    "sus_sed_dr = list(station_info.Suspended_Sediment_Load_dr)\n",
    "water_temp_mae = list(station_info.Water_Temperature_mae)\n",
    "station_num = list(station_info.Calibration_Station)\n",
    "\n",
    "station_info.head()"
   ]
  },
  {
   "cell_type": "code",
   "execution_count": 2,
   "metadata": {
    "scrolled": true
   },
   "outputs": [],
   "source": [
    "# Make map\n",
    "\n",
    "from ipyleaflet import Map, Marker, CircleMarker, Popup, FullScreenControl# May need to run jupyter notebookas administrator to get maps to work.\n",
    "from ipywidgets import HTML\n",
    "import numpy as np\n",
    "from colormap import rgb2hex      # (pip install colormap easydev)\n",
    "\n",
    "\n",
    "\n",
    "\n",
    "\n",
    "# Create colormap in RGB\n",
    "colormap = plt.get_cmap('autumn')\n",
    "#sf_dr_array_norm255 = np.round(((np.array(streamflow_dr)+1) * (255/2)),0).astype(int) # Use this code if dr often has negative values.\n",
    "sf_dr_array_norm255 = np.round(((np.array(streamflow_dr)) * (255)),0).astype(int)\n",
    "colors_rgb = colormap(sf_dr_array_norm255)\n",
    "\n",
    "# Make Map\n",
    "center = (46, -83)\n",
    "m = Map(center=center, zoom=5)\n",
    "          \n",
    "def html_table(index):\n",
    "    message = \"\"\"<html>\n",
    "    <head>Station Information</head>\n",
    "    <body></body>\n",
    "    <table border=\"1\">\n",
    "        <tr>\n",
    "            <th scope = \"row\">Calibration Station</th>\n",
    "            <td> #{} </td>\n",
    "        </tr>\n",
    "        <tr>\n",
    "            <th scope = \"row\">Coordinates</th>\n",
    "            <td> {} </td>\n",
    "        </tr>\n",
    "        <tr>\n",
    "            <th scope = \"row\">Streamflow dr</th>\n",
    "            <td> {} </td>\n",
    "        </tr>\n",
    "        <tr>\n",
    "            <th scope = \"row\">Water Temperature dr</th>\n",
    "            <td> {} </td>\n",
    "        </tr>\n",
    "        <tr>\n",
    "            <th scope = \"row\">Suspended Sediment Load dr</th>\n",
    "            <td> {} </td>\n",
    "        </tr>\n",
    "        <tr>\n",
    "            <th scope = \"row\">Water Temperature mae</th>\n",
    "            <td> {} </td>\n",
    "        </tr>\n",
    "    </table>\n",
    "    </html>\n",
    "    \"\"\".format(index, \n",
    "               (round(lats[index],2), round(lons[index], 2)),\n",
    "               round(streamflow_dr[index], 6),\n",
    "               round(water_temp_dr[index], 6),\n",
    "               round(sus_sed_dr[index], 6),\n",
    "               round(water_temp_mae[index], 6)\n",
    "               \n",
    "              )\n",
    "    return message\n",
    "\n",
    "\n",
    "\n",
    "# Add points\n",
    "for station in station_info.Calibration_Station:\n",
    "    circle_marker = CircleMarker()\n",
    "    circle_marker.location = (float(lats[station]), float(lons[station]))\n",
    "    circle_marker.radius = 3\n",
    "\n",
    "    # Convert RGB to Hex, then color circles\n",
    "    colors_hex = rgb2hex(int(colors_rgb[(station-1),0]*255), \n",
    "                         int(colors_rgb[(station-1),1]*255), \n",
    "                         int(colors_rgb[(station-1),2]*255))\n",
    "\n",
    "    \n",
    "    # \n",
    "\n",
    "    circle_marker.color = colors_hex\n",
    "    circle_marker.fill_color = colors_hex\n",
    "    m.add_layer(circle_marker)\n",
    "    \n",
    "    message = HTML()\n",
    "    message.value = html_table(station)\n",
    "    message.palceholder = \"placeholder\"\n",
    "    #message.description = \"Station Information:\"\n",
    "    circle_marker.popup = message\n",
    "    \n"
   ]
  },
  {
   "cell_type": "code",
   "execution_count": 3,
   "metadata": {},
   "outputs": [],
   "source": [
    "from ipyleaflet import Map, basemaps, WidgetControl\n",
    "from ipywidgets import IntSlider, ColorPicker, jslink\n",
    "from ipywidgets import interact, interactive, fixed, interact_manual\n",
    "import ipywidgets as widgets\n",
    "from IPython.display import clear_output\n",
    "\n",
    "station_picker = widgets.IntText(\n",
    "    value=174,\n",
    "    description='Station #:',\n",
    "    disabled=False\n",
    ")\n",
    "\n",
    "widget_control = WidgetControl(widget=station_picker, position='bottomright')\n",
    "m.add_control(widget_control)\n",
    "m.add_control(FullScreenControl())"
   ]
  },
  {
   "cell_type": "code",
   "execution_count": 31,
   "metadata": {},
   "outputs": [
    {
     "data": {
      "application/vnd.jupyter.widget-view+json": {
       "model_id": "6d1ddec035954e5097c09bbe9cdc4a40",
       "version_major": 2,
       "version_minor": 0
      },
      "text/plain": [
       "Map(basemap={'url': 'https://{s}.tile.openstreetmap.org/{z}/{x}/{y}.png', 'max_zoom': 19, 'attribution': 'Map …"
      ]
     },
     "metadata": {},
     "output_type": "display_data"
    }
   ],
   "source": [
    "m"
   ]
  },
  {
   "cell_type": "code",
   "execution_count": 32,
   "metadata": {},
   "outputs": [
    {
     "data": {
      "application/vnd.jupyter.widget-view+json": {
       "model_id": "daf4bdda785349a6b84c2313f85938c2",
       "version_major": 2,
       "version_minor": 0
      },
      "text/plain": [
       "interactive(children=(IntText(value=174, description='Station #:'), Output()), _dom_classes=('widget-interact'…"
      ]
     },
     "metadata": {},
     "output_type": "display_data"
    },
    {
     "data": {
      "application/vnd.jupyter.widget-view+json": {
       "model_id": "6d1ddec035954e5097c09bbe9cdc4a40",
       "version_major": 2,
       "version_minor": 0
      },
      "text/plain": [
       "Map(basemap={'url': 'https://{s}.tile.openstreetmap.org/{z}/{x}/{y}.png', 'max_zoom': 19, 'attribution': 'Map …"
      ]
     },
     "metadata": {},
     "output_type": "display_data"
    }
   ],
   "source": [
    "\n",
    "\n",
    "def f(x):\n",
    "    clear_output()\n",
    "    message_info = HTML()\n",
    "    message_info.value = html_table(x)\n",
    "    html_table(x)\n",
    "    user_select_popup = Popup(\n",
    "        location = ((float(lats[x]), float(lons[x]))),\n",
    "        child = message_info\n",
    "    )\n",
    "    m.add_layer(user_select_popup)\n",
    "    return 0\n",
    "\n",
    "\n",
    "\n",
    "interact(f, x=station_picker) \n",
    "\n",
    "\n",
    "m"
   ]
  },
  {
   "cell_type": "code",
   "execution_count": null,
   "metadata": {},
   "outputs": [],
   "source": []
  }
 ],
 "metadata": {
  "kernelspec": {
   "display_name": "Python 3",
   "language": "python",
   "name": "python3"
  },
  "language_info": {
   "codemirror_mode": {
    "name": "ipython",
    "version": 3
   },
   "file_extension": ".py",
   "mimetype": "text/x-python",
   "name": "python",
   "nbconvert_exporter": "python",
   "pygments_lexer": "ipython3",
   "version": "3.7.3"
  }
 },
 "nbformat": 4,
 "nbformat_minor": 2
}
